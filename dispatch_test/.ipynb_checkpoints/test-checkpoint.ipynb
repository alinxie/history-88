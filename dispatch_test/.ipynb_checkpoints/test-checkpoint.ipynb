{
 "cells": [
  {
   "cell_type": "code",
   "execution_count": 7,
   "metadata": {
    "collapsed": true
   },
   "outputs": [],
   "source": [
    "from datascience import *\n",
    "import numpy as np\n",
    "# import glob\n",
    "import pandas as pd\n",
    "% matplotlib inline"
   ]
  },
  {
   "cell_type": "code",
   "execution_count": 15,
   "metadata": {
    "collapsed": false
   },
   "outputs": [
    {
     "name": "stderr",
     "output_type": "stream",
     "text": [
      "/opt/conda/lib/python3.5/site-packages/IPython/core/interactiveshell.py:2821: DtypeWarning: Columns (35) have mixed types. Specify dtype option on import or set low_memory=False.\n",
      "  if self.run_code(code, result):\n"
     ]
    }
   ],
   "source": [
    "dispatch = Table.read_table('temp.csv')\n",
    "wra = Table.read_table('../WRA/combined.csv')"
   ]
  },
  {
   "cell_type": "code",
   "execution_count": 16,
   "metadata": {
    "collapsed": false
   },
   "outputs": [
    {
     "data": {
      "text/html": [
       "<table border=\"1\" class=\"dataframe\">\n",
       "    <thead>\n",
       "        <tr>\n",
       "            <th>Last Name</th> <th>First Name</th> <th>Middle Name</th> <th>Age</th> <th>Date of Departure</th> <th>Camp Name</th> <th>Destination</th> <th>Occupation</th> <th>Gender</th> <th>Marital Status</th> <th>Source</th> <th>Notes</th>\n",
       "        </tr>\n",
       "    </thead>\n",
       "    <tbody>\n",
       "        <tr>\n",
       "            <td>Yoshihara</td> <td>Takeo     </td> <td>nan        </td> <td>nan </td> <td>nan              </td> <td>Tule Lake </td> <td>Rupert, Idaho           </td> <td>nan                  </td> <td>nan   </td> <td>nan           </td> <td>Tulean Dispatch 5.1b</td> <td>Also mentioned in TD 5.4                                  </td>\n",
       "        </tr>\n",
       "    </tbody>\n",
       "        <tr>\n",
       "            <td>Honda    </td> <td>Noboru    </td> <td>nan        </td> <td>nan </td> <td>nan              </td> <td>Tule Lake </td> <td>New York, New York      </td> <td>Student              </td> <td>nan   </td> <td>nan           </td> <td>Tulean Dispatch 5.2 </td> <td>Rochdale Institute                                        </td>\n",
       "        </tr>\n",
       "    </tbody>\n",
       "        <tr>\n",
       "            <td>Sakamoto </td> <td>Fumi      </td> <td>nan        </td> <td>nan </td> <td>nan              </td> <td>Tule Lake </td> <td>New York, New York      </td> <td>Student              </td> <td>nan   </td> <td>nan           </td> <td>Tulean Dispatch 5.2 </td> <td>Rochdale Institute; a letter of hers is conveyed in TD 5.5</td>\n",
       "        </tr>\n",
       "    </tbody>\n",
       "        <tr>\n",
       "            <td>Ota      </td> <td>Robert    </td> <td>nan        </td> <td>nan </td> <td>nan              </td> <td>Tule Lake </td> <td>New York, New York      </td> <td>Student              </td> <td>nan   </td> <td>nan           </td> <td>Tulean Dispatch 5.2 </td> <td>Rochdale Institute                                        </td>\n",
       "        </tr>\n",
       "    </tbody>\n",
       "        <tr>\n",
       "            <td>Kajikawa </td> <td>Eideo     </td> <td>nan        </td> <td>nan </td> <td>nan              </td> <td>Tule Lake </td> <td>Camp Shelby, Mississippi</td> <td>Military             </td> <td>nan   </td> <td>nan           </td> <td>Tulean Dispatch 5.2 </td> <td>nan                                                       </td>\n",
       "        </tr>\n",
       "    </tbody>\n",
       "        <tr>\n",
       "            <td>Ishihara </td> <td>Peggy     </td> <td>nan        </td> <td>nan </td> <td>nan              </td> <td>Gila River</td> <td>Chicago, Illinois       </td> <td>Factory              </td> <td>nan   </td> <td>nan           </td> <td>Tulean Dispatch 5.2 </td> <td>nan                                                       </td>\n",
       "        </tr>\n",
       "    </tbody>\n",
       "        <tr>\n",
       "            <td>Sumida   </td> <td>George    </td> <td>nan        </td> <td>nan </td> <td>nan              </td> <td>Tule Lake </td> <td>Ann Arbor, Michigan     </td> <td>Gas Station Attendant</td> <td>nan   </td> <td>nan           </td> <td>Tulean Dispatch 5.2 </td> <td>nan                                                       </td>\n",
       "        </tr>\n",
       "    </tbody>\n",
       "        <tr>\n",
       "            <td>Yanagawa </td> <td>Josie     </td> <td>S.         </td> <td>nan </td> <td>nan              </td> <td>Tule Lake </td> <td>Camp Robinson, Arkansas </td> <td>nan                  </td> <td>nan   </td> <td>nan           </td> <td>Tulean Dispatch 5.2 </td> <td>nan                                                       </td>\n",
       "        </tr>\n",
       "    </tbody>\n",
       "        <tr>\n",
       "            <td>Furushiro</td> <td>Midori    </td> <td>nan        </td> <td>nan </td> <td>March 22, 1943   </td> <td>Tule Lake </td> <td>Caldwell, Idaho         </td> <td>nan                  </td> <td>nan   </td> <td>nan           </td> <td>Tulean Dispatch 5.2 </td> <td>nan                                                       </td>\n",
       "        </tr>\n",
       "    </tbody>\n",
       "        <tr>\n",
       "            <td>Yamagiwa </td> <td>Yuri      </td> <td>nan        </td> <td>nan </td> <td>nan              </td> <td>Tule Lake </td> <td>Palatine, Illinois      </td> <td>nan                  </td> <td>nan   </td> <td>nan           </td> <td>Tulean Dispatch 5.2 </td> <td>nan                                                       </td>\n",
       "        </tr>\n",
       "    </tbody>\n",
       "</table>\n",
       "<p>... (16 rows omitted)</p"
      ],
      "text/plain": [
       "Last Name | First Name | Middle Name | Age  | Date of Departure | Camp Name  | Destination              | Occupation            | Gender | Marital Status | Source               | Notes\n",
       "Yoshihara | Takeo      | nan         | nan  | nan               | Tule Lake  | Rupert, Idaho            | nan                   | nan    | nan            | Tulean Dispatch 5.1b | Also mentioned in TD 5.4\n",
       "Honda     | Noboru     | nan         | nan  | nan               | Tule Lake  | New York, New York       | Student               | nan    | nan            | Tulean Dispatch 5.2  | Rochdale Institute\n",
       "Sakamoto  | Fumi       | nan         | nan  | nan               | Tule Lake  | New York, New York       | Student               | nan    | nan            | Tulean Dispatch 5.2  | Rochdale Institute; a letter of hers is conveyed in TD 5.5\n",
       "Ota       | Robert     | nan         | nan  | nan               | Tule Lake  | New York, New York       | Student               | nan    | nan            | Tulean Dispatch 5.2  | Rochdale Institute\n",
       "Kajikawa  | Eideo      | nan         | nan  | nan               | Tule Lake  | Camp Shelby, Mississippi | Military              | nan    | nan            | Tulean Dispatch 5.2  | nan\n",
       "Ishihara  | Peggy      | nan         | nan  | nan               | Gila River | Chicago, Illinois        | Factory               | nan    | nan            | Tulean Dispatch 5.2  | nan\n",
       "Sumida    | George     | nan         | nan  | nan               | Tule Lake  | Ann Arbor, Michigan      | Gas Station Attendant | nan    | nan            | Tulean Dispatch 5.2  | nan\n",
       "Yanagawa  | Josie      | S.          | nan  | nan               | Tule Lake  | Camp Robinson, Arkansas  | nan                   | nan    | nan            | Tulean Dispatch 5.2  | nan\n",
       "Furushiro | Midori     | nan         | nan  | March 22, 1943    | Tule Lake  | Caldwell, Idaho          | nan                   | nan    | nan            | Tulean Dispatch 5.2  | nan\n",
       "Yamagiwa  | Yuri       | nan         | nan  | nan               | Tule Lake  | Palatine, Illinois       | nan                   | nan    | nan            | Tulean Dispatch 5.2  | nan\n",
       "... (16 rows omitted)"
      ]
     },
     "execution_count": 16,
     "metadata": {},
     "output_type": "execute_result"
    }
   ],
   "source": [
    "dispatch"
   ]
  },
  {
   "cell_type": "code",
   "execution_count": 17,
   "metadata": {
    "collapsed": false
   },
   "outputs": [
    {
     "data": {
      "text/html": [
       "<table border=\"1\" class=\"dataframe\">\n",
       "    <thead>\n",
       "        <tr>\n",
       "            <th>Unnamed: 0</th> <th>LAST NAME</th> <th>FIRST NAME</th> <th>MIDDLE INITIAL</th> <th>RELOCATION PROJECT</th> <th>ASSEMBLY CENTER</th> <th>LAST PERMANENT ADDRESS</th> <th>LAST PERMANENT ADDRESS STATE</th> <th>LAST PERMANENT ADDRESS COUNTY</th> <th>LAST PERMANENT ADDRESS POPULATION DENSITY</th> <th>BIRTH PLACE OF PARENTS</th> <th>FATHERS OCCUPATION IN U.S.</th> <th>FATHERS OCCUPATION ABROAD</th> <th>TOTAL YEARS OF SCHOOLING IN JAPAN</th> <th>YEARS OF SCHOOLING IN JAPAN</th> <th>EDUCATIONAL DEGREES</th> <th>YEAR OF FIRST ARRIVAL IN TERRITORIAL U.S.</th> <th>TOTAL LENGTH OF TIME IN JAPAN</th> <th>NUMBER OF TIMES IN JAPAN</th> <th>AGE AT TIME IN JAPAN</th> <th>MILITARY AND NAVAL SERVICE, PUBLIC ASSISTANCE AND PENSIONS, PHYSICAL DEFECTS</th> <th>INDIVIDUAL NUMBER</th> <th>SEX AND MARITAL STATUS</th> <th>RACE OF INDIVIDUAL AND SPOUSE</th> <th>YEAR OF BIRTH</th> <th>BIRTH PLACE</th> <th>ALIEN REGISTRATION NUMBER, SOCIAL SECURITY NUMBER AND JAPANESE LANGUAGE SCHOOL</th> <th>HIGHEST GRADE COMPLETED OR GRADE ATTENDING</th> <th>LANGUAGE</th> <th>RELIGION</th> <th>PRIMARY OCCUPATION</th> <th>SECONDARY OCCUPATION</th> <th>TERTIARY OCCUPATION</th> <th>POTENTIAL OCCUPATION 1</th> <th>POTENTIAL OCCUPATION 2</th> <th>FILE NUMBER</th> <th>BLANK 1</th>\n",
       "        </tr>\n",
       "    </thead>\n",
       "    <tbody>\n",
       "        <tr>\n",
       "            <td>957       </td> <td>YOSHIHARA</td> <td>TAKEO     </td> <td>nan           </td> <td>Tule Lake         </td> <td>Pinedale       </td> <td>TACOMA, WASHINGTON    </td> <td>Pacific States - Washington </td> <td>PIERCE                       </td> <td>25,000 - 999,999                         </td> <td>Father=Japan, Mother=Japan</td> <td>MANAGERIAL & OFFICIAL (EXCEPT FARM)</td> <td>BLANK, UNKNOWN, NONE, DASH</td> <td>NONE                             </td> <td>NONE                       </td> <td>BACHELORS-SOCIAL SCIENCES & MATHEMATICS</td> <td>--                                       </td> <td>NONE                         </td> <td>NONE-- NOT ATTENDING SCHOOL</td> <td>NEVER IN JAPAN      </td> <td>MASKED VALUE                                                                </td> <td>19414A           </td> <td>MALE SINGLE           </td> <td>INDIVIDUAL-JAPANESE; NO SPOUSE</td> <td>18           </td> <td>Pacific States - Washington</td> <td>HAS NEITHER A.R. NOR S. S. NUMBER AND HAS ATTENDED JAPANESE LANGUAGE SCHOOL   </td> <td>COLLEGE 4 IN U.S.                         </td> <td>JAPANESE SPEAKING; ENGLISH SPEAK, READ AND WRITE</td> <td>MASKED VALUE</td> <td>Retail Managers   </td> <td>nan                 </td> <td>nan                </td> <td>Social and Welfare Workers</td> <td>Buyers and Department Heads, Stores</td> <td>414012     </td> <td>31171  </td>\n",
       "        </tr>\n",
       "    </tbody>\n",
       "</table>"
      ],
      "text/plain": [
       "Unnamed: 0 | LAST NAME | FIRST NAME | MIDDLE INITIAL | RELOCATION PROJECT | ASSEMBLY CENTER | LAST PERMANENT ADDRESS | LAST PERMANENT ADDRESS STATE | LAST PERMANENT ADDRESS COUNTY | LAST PERMANENT ADDRESS POPULATION DENSITY | BIRTH PLACE OF PARENTS     | FATHERS OCCUPATION IN U.S.          | FATHERS OCCUPATION ABROAD  | TOTAL YEARS OF SCHOOLING IN JAPAN | YEARS OF SCHOOLING IN JAPAN | EDUCATIONAL DEGREES                     | YEAR OF FIRST ARRIVAL IN TERRITORIAL U.S. | TOTAL LENGTH OF TIME IN JAPAN | NUMBER OF TIMES IN JAPAN    | AGE AT TIME IN JAPAN | MILITARY AND NAVAL SERVICE, PUBLIC ASSISTANCE AND PENSIONS, PHYSICAL DEFECTS | INDIVIDUAL NUMBER | SEX AND MARITAL STATUS | RACE OF INDIVIDUAL AND SPOUSE  | YEAR OF BIRTH | BIRTH PLACE                 | ALIEN REGISTRATION NUMBER, SOCIAL SECURITY NUMBER AND JAPANESE LANGUAGE SCHOOL | HIGHEST GRADE COMPLETED OR GRADE ATTENDING | LANGUAGE                                         | RELIGION     | PRIMARY OCCUPATION | SECONDARY OCCUPATION | TERTIARY OCCUPATION | POTENTIAL OCCUPATION 1     | POTENTIAL OCCUPATION 2              | FILE NUMBER | BLANK 1\n",
       "957        | YOSHIHARA | TAKEO      | nan            | Tule Lake          | Pinedale        | TACOMA, WASHINGTON     | Pacific States - Washington  | PIERCE                        | 25,000 - 999,999                          | Father=Japan, Mother=Japan | MANAGERIAL & OFFICIAL (EXCEPT FARM) | BLANK, UNKNOWN, NONE, DASH | NONE                              | NONE                        | BACHELORS-SOCIAL SCIENCES & MATHEMATICS | --                                        | NONE                          | NONE-- NOT ATTENDING SCHOOL | NEVER IN JAPAN       | MASKED VALUE                                                                 | 19414A            | MALE SINGLE            | INDIVIDUAL-JAPANESE; NO SPOUSE | 18            | Pacific States - Washington | HAS NEITHER A.R. NOR S. S. NUMBER AND HAS ATTENDED JAPANESE LANGUAGE SCHOOL    | COLLEGE 4 IN U.S.                          | JAPANESE SPEAKING; ENGLISH SPEAK, READ AND WRITE | MASKED VALUE | Retail Managers    | nan                  | nan                 | Social and Welfare Workers | Buyers and Department Heads, Stores | 414012      | 31171"
      ]
     },
     "execution_count": 17,
     "metadata": {},
     "output_type": "execute_result"
    }
   ],
   "source": [
    "wra.where('RELOCATION PROJECT', 'Tule Lake').where('LAST NAME', 'YOSHIHARA').where('FIRST NAME', 'TAKEO')"
   ]
  },
  {
   "cell_type": "code",
   "execution_count": 9,
   "metadata": {
    "collapsed": false
   },
   "outputs": [
    {
     "name": "stdout",
     "output_type": "stream",
     "text": [
      "Takeo\n",
      "Noboru\n",
      "Fumi\n",
      "Robert\n",
      "Eideo\n",
      "Peggy\n",
      "George\n",
      "Josie\n",
      "Midori\n",
      "Yuri\n",
      "Sumi\n",
      "Joe\n",
      "Yuri\n",
      "Toko\n",
      "Tom\n",
      "Mrs. Tom\n",
      "Mrs. Chiyo\n",
      "Patsy\n",
      "Minnie\n",
      "Sumi\n",
      "Esther\n",
      "George\n",
      "Mike\n",
      "Ray\n",
      "Don\n",
      "Jean\n"
     ]
    }
   ],
   "source": [
    "def find_names(source, dest):\n",
    "    for row in source.rows:\n",
    "        print(row[1])\n",
    "find_names(dispatch, wra)"
   ]
  },
  {
   "cell_type": "code",
   "execution_count": 18,
   "metadata": {
    "collapsed": false
   },
   "outputs": [
    {
     "name": "stderr",
     "output_type": "stream",
     "text": [
      "/opt/conda/lib/python3.5/site-packages/IPython/core/interactiveshell.py:2717: DtypeWarning: Columns (35) have mixed types. Specify dtype option on import or set low_memory=False.\n",
      "  interactivity=interactivity, compiler=compiler, result=result)\n"
     ]
    }
   ],
   "source": [
    "dispatch = pd.read_csv('temp.csv')\n",
    "wra = pd.read_csv('../WRA/combined.csv')"
   ]
  },
  {
   "cell_type": "code",
   "execution_count": 19,
   "metadata": {
    "collapsed": false
   },
   "outputs": [],
   "source": [
    "dispatch = dispatch.rename(columns={'Last Name': 'LAST NAME', 'First Name': 'FIRST NAME', 'Camp Name':'RELOCATION PROJECT'})"
   ]
  },
  {
   "cell_type": "code",
   "execution_count": 23,
   "metadata": {
    "collapsed": false
   },
   "outputs": [],
   "source": [
    "dispatch['LAST NAME'] = map(lambda x: x.upper(), dispatch['LAST NAME'])\n",
    "dispatch['FIRST NAME'] = map(lambda x: x.upper(), dispatch['FIRST NAME'])"
   ]
  },
  {
   "cell_type": "code",
   "execution_count": 14,
   "metadata": {
    "collapsed": false
   },
   "outputs": [
    {
     "data": {
      "text/html": [
       "<div>\n",
       "<table border=\"1\" class=\"dataframe\">\n",
       "  <thead>\n",
       "    <tr style=\"text-align: right;\">\n",
       "      <th></th>\n",
       "      <th>LAST NAME</th>\n",
       "      <th>FIRST NAME</th>\n",
       "      <th>Middle Name</th>\n",
       "      <th>Age</th>\n",
       "      <th>Date of Departure</th>\n",
       "      <th>RELOCATION PROJECT</th>\n",
       "      <th>Destination</th>\n",
       "      <th>Occupation</th>\n",
       "      <th>Gender</th>\n",
       "      <th>Marital Status</th>\n",
       "      <th>...</th>\n",
       "      <th>HIGHEST GRADE COMPLETED OR GRADE ATTENDING</th>\n",
       "      <th>LANGUAGE</th>\n",
       "      <th>RELIGION</th>\n",
       "      <th>PRIMARY OCCUPATION</th>\n",
       "      <th>SECONDARY OCCUPATION</th>\n",
       "      <th>TERTIARY OCCUPATION</th>\n",
       "      <th>POTENTIAL OCCUPATION 1</th>\n",
       "      <th>POTENTIAL OCCUPATION 2</th>\n",
       "      <th>FILE NUMBER</th>\n",
       "      <th>BLANK 1</th>\n",
       "    </tr>\n",
       "  </thead>\n",
       "  <tbody>\n",
       "  </tbody>\n",
       "</table>\n",
       "<p>0 rows × 46 columns</p>\n",
       "</div>"
      ],
      "text/plain": [
       "Empty DataFrame\n",
       "Columns: [LAST NAME, FIRST NAME, Middle Name, Age, Date of Departure, RELOCATION PROJECT, Destination, Occupation, Gender, Marital Status, Source, Notes, Unnamed: 0, MIDDLE INITIAL, ASSEMBLY CENTER, LAST PERMANENT ADDRESS, LAST PERMANENT ADDRESS STATE, LAST PERMANENT ADDRESS COUNTY, LAST PERMANENT ADDRESS POPULATION DENSITY, BIRTH PLACE OF PARENTS, FATHERS OCCUPATION IN U.S., FATHERS OCCUPATION ABROAD, TOTAL YEARS OF SCHOOLING IN JAPAN, YEARS OF SCHOOLING IN JAPAN, EDUCATIONAL DEGREES, YEAR OF FIRST ARRIVAL IN TERRITORIAL U.S., TOTAL LENGTH OF TIME IN JAPAN, NUMBER OF TIMES IN JAPAN, AGE AT TIME IN JAPAN, MILITARY AND NAVAL SERVICE, PUBLIC ASSISTANCE AND PENSIONS, PHYSICAL DEFECTS, INDIVIDUAL NUMBER, SEX AND MARITAL STATUS, RACE OF INDIVIDUAL AND SPOUSE, YEAR OF BIRTH, BIRTH PLACE, ALIEN REGISTRATION NUMBER, SOCIAL SECURITY NUMBER AND JAPANESE LANGUAGE SCHOOL, HIGHEST GRADE COMPLETED OR GRADE ATTENDING, LANGUAGE, RELIGION, PRIMARY OCCUPATION, SECONDARY OCCUPATION, TERTIARY OCCUPATION, POTENTIAL OCCUPATION 1, POTENTIAL OCCUPATION 2, FILE NUMBER, BLANK 1]\n",
       "Index: []\n",
       "\n",
       "[0 rows x 46 columns]"
      ]
     },
     "execution_count": 14,
     "metadata": {},
     "output_type": "execute_result"
    }
   ],
   "source": [
    "merged = pd.merge(dispatch, wra, on = ['LAST NAME', 'FIRST NAME', 'RELOCATION PROJECT'])\n",
    "merged"
   ]
  },
  {
   "cell_type": "code",
   "execution_count": null,
   "metadata": {
    "collapsed": true
   },
   "outputs": [],
   "source": []
  }
 ],
 "metadata": {
  "kernelspec": {
   "display_name": "Python 3",
   "language": "python",
   "name": "python3"
  },
  "language_info": {
   "codemirror_mode": {
    "name": "ipython",
    "version": 3
   },
   "file_extension": ".py",
   "mimetype": "text/x-python",
   "name": "python",
   "nbconvert_exporter": "python",
   "pygments_lexer": "ipython3",
   "version": "3.5.2"
  }
 },
 "nbformat": 4,
 "nbformat_minor": 2
}
